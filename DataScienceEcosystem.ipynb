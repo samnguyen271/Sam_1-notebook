{
 "cells": [
  {
   "cell_type": "markdown",
   "id": "a09265ed-b5f6-405c-af1b-d3633f3d6194",
   "metadata": {},
   "source": [
    "# Data Science Tools and Ecosystem"
   ]
  },
  {
   "cell_type": "markdown",
   "id": "2bd5e093-a95e-4148-b894-6da5933eb4d0",
   "metadata": {},
   "source": [
    "In this notebook, Data Science Tools and Ecosystem are summarized."
   ]
  },
  {
   "cell_type": "markdown",
   "id": "e67046c5-9b2b-4a6c-8669-9817106ce38d",
   "metadata": {},
   "source": [
    "Objectives:\n",
    "* List of the popular languages that Data Scientist uses\n",
    "* List of commonly used libraries by Data Scientist\n",
    "* List of Data Science tools"
   ]
  },
  {
   "cell_type": "markdown",
   "id": "dc8d5b16-4b4b-47bb-9cff-7e5505962365",
   "metadata": {},
   "source": [
    "Some of the popular languages that Data Scientist uses are:\n",
    "1. Python\n",
    "2. R\n",
    "3. SQL"
   ]
  },
  {
   "cell_type": "markdown",
   "id": "c5d4c42b-99b2-43f2-a286-95723719c7a7",
   "metadata": {},
   "source": [
    "Some of the commonly used libraries used by Data Scientists include:\n",
    "1. Numpy\n",
    "2. Pandas\n",
    "3. Matplotlib"
   ]
  },
  {
   "cell_type": "markdown",
   "id": "82f892b2-0b64-406e-b68c-03e8e567efc7",
   "metadata": {},
   "source": [
    "| Data Science Tools |\n",
    "|---|\n",
    "| Jupyter Notebook |\n",
    "| R Studio |\n",
    "| VS code |"
   ]
  },
  {
   "cell_type": "markdown",
   "id": "f0f0d8a0-7598-4b53-b2e2-554fa8f250f0",
   "metadata": {},
   "source": [
    "### Below are a few examples of evaluating arithmetic expressions in Python."
   ]
  },
  {
   "cell_type": "code",
   "execution_count": 1,
   "id": "52dca8b4-e53a-42ff-b038-e61adb067973",
   "metadata": {},
   "outputs": [
    {
     "data": {
      "text/plain": [
       "17"
      ]
     },
     "execution_count": 1,
     "metadata": {},
     "output_type": "execute_result"
    }
   ],
   "source": [
    "#This a simple arithmetic expression to mutiply then add integers.\n",
    "3*4+5"
   ]
  },
  {
   "cell_type": "code",
   "execution_count": 2,
   "id": "b04bfb4c-0fa5-4345-92cc-940289d68718",
   "metadata": {},
   "outputs": [
    {
     "data": {
      "text/plain": [
       "3.3333333333333335"
      ]
     },
     "execution_count": 2,
     "metadata": {},
     "output_type": "execute_result"
    }
   ],
   "source": [
    "# This will convert 200 minutes to hours by diving by 60\n",
    "200/60"
   ]
  },
  {
   "cell_type": "markdown",
   "id": "115b51d7-1f32-431e-8229-34d933a3bcf3",
   "metadata": {},
   "source": [
    "## Author\n",
    "Nguyen Dai Tuan"
   ]
  },
  {
   "cell_type": "code",
   "execution_count": null,
   "id": "452ab23d-fca9-4711-a9be-346b368b84d6",
   "metadata": {},
   "outputs": [],
   "source": []
  }
 ],
 "metadata": {
  "kernelspec": {
   "display_name": "Python 3 (ipykernel)",
   "language": "python",
   "name": "python3"
  },
  "language_info": {
   "codemirror_mode": {
    "name": "ipython",
    "version": 3
   },
   "file_extension": ".py",
   "mimetype": "text/x-python",
   "name": "python",
   "nbconvert_exporter": "python",
   "pygments_lexer": "ipython3",
   "version": "3.12.3"
  }
 },
 "nbformat": 4,
 "nbformat_minor": 5
}
